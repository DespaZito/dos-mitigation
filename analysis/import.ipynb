{
 "cells": [
  {
   "cell_type": "code",
   "execution_count": null,
   "metadata": {},
   "outputs": [],
   "source": [
    "# Imports\n",
    "\n",
    "# Internal\n",
    "import db_helpers as dbh\n",
    "import db_parse as dbp\n",
    "\n",
    "# External\n",
    "import ipywidgets as widgets\n",
    "import json\n",
    "import pandas as pd\n",
    "from pprint import pprint\n",
    "import os"
   ]
  },
  {
   "cell_type": "code",
   "execution_count": null,
   "metadata": {},
   "outputs": [],
   "source": [
    "# Settings\n",
    "\n",
    "db_name = \"dos\"\n",
    "schema = \"schema.sql\"\n",
    "data_dir = \"/usr/local/dos-mitigation/data\""
   ]
  },
  {
   "cell_type": "code",
   "execution_count": null,
   "metadata": {},
   "outputs": [],
   "source": [
    "# Select Materialization\n",
    "\n",
    "subfolders = [ f.path for f in os.scandir(data_dir) if f.is_dir() ]\n",
    "materializations = [i.split('/')[-1] for i in subfolders]\n",
    "widget_materialization = widgets.Dropdown(\n",
    "    options=materializations,\n",
    "    value=materializations[0],\n",
    "    description='Materialization',\n",
    "    disabled=False\n",
    ")\n",
    "widget_materialization"
   ]
  },
  {
   "cell_type": "code",
   "execution_count": null,
   "metadata": {},
   "outputs": [],
   "source": [
    "# Select Session\n",
    "\n",
    "materialization = widget_materialization.value\n",
    "revision = materialization\n",
    "materialization_dir = data_dir + '/' + materialization\n",
    "subfolders = [ f.path for f in os.scandir(materialization_dir) if f.is_dir() ]\n",
    "sessions = [i.split('/')[-1] for i in subfolders]\n",
    "widget_session = widgets.Dropdown(\n",
    "    options=sessions,\n",
    "    value=sessions[0],\n",
    "    description='Session',\n",
    "    disabled=False\n",
    ")\n",
    "widget_session"
   ]
  },
  {
   "cell_type": "code",
   "execution_count": null,
   "metadata": {},
   "outputs": [],
   "source": [
    "# Check for Existing Data\n",
    "\n",
    "session = widget_session.value\n",
    "session_dir = materialization_dir + '/' + session\n",
    "conn = dbh.Connection(\"dos\")\n",
    "\n",
    "existing_revisions = conn.db_query(\"select distinct nickname from revisions\")[0]\n",
    "existing_materializations = conn.db_query(\"select distinct nickname from materializations\")[0]\n",
    "existing_sessions = conn.db_query(\"select distinct nickname from sessions\")[0]\n",
    "\n",
    "# if revision in existing_revisions:\n",
    "#     print(f'WARNING: Revision {revision} already exists')\n",
    "# if materialization in existing_materializations:\n",
    "#     print(f'WARNING: Materialization {materialization} already exists')\n",
    "\n",
    "widget_existing_session = None\n",
    "if session in existing_sessions:\n",
    "    print(f'WARNING: Session {session} already exists')\n",
    "    widget_existing_session = widgets.Dropdown(\n",
    "        options=['Append Nickname', 'Merge and Keep New Parameters', 'Merge and Keep Old Parameters'],\n",
    "        value = 'Append Nickname',\n",
    "        description = 'Action:',\n",
    "        disabled=False\n",
    "    )\n",
    "widget_existing_session\n"
   ]
  },
  {
   "cell_type": "code",
   "execution_count": null,
   "metadata": {},
   "outputs": [],
   "source": [
    "# Populate/Retrieve Metadata\n",
    "\n",
    "if revision not in existing_revisions:\n",
    "    conn.insert_dict_as_row('revisions', {\n",
    "        \"hash\": \"5bcc425177d073587dc0f78bf9acf084676d2061\",\n",
    "        \"metal\": True,\n",
    "        \"model_file\": None,\n",
    "        \"nickname\": revision\n",
    "    })\n",
    "revision_id = conn.nickname_id(\"revisions\", revision)\n",
    "    \n",
    "if materialization not in existing_materializations:\n",
    "    conn.insert_dict_as_row('materializations', {\n",
    "        \"nickname\": materialization,\n",
    "        \"revision\": revision_id,\n",
    "        \"inventory_file\": None\n",
    "    })\n",
    "materialization_id = conn.nickname_id(\"materializations\", materialization)\n",
    "\n",
    "if widget_existing_session != None:\n",
    "    existing_session_action = widget_existing_session.value\n",
    "    if existing_session_action == 'Append Nickname':\n",
    "        i = 0\n",
    "        while session + str(i) in existing_sessions:\n",
    "            i += 1\n",
    "        print(f'Appending session nickname from {session} to {session + str(i)}')\n",
    "        with open(\"{}/.parameters.json\".format(session_dir)) as f:\n",
    "            parameters = json.load(f)\n",
    "        conn.insert_dict_as_row(\"sessions\", {\n",
    "            \"materialization\": materialization_id,\n",
    "            \"parameters\": parameters,\n",
    "            \"nickname\": session + str(i)\n",
    "        })\n",
    "\n",
    "    elif existing_session_action == 'Merge and Keep New Parameters':\n",
    "        session_nick = session\n",
    "        with open(\"{}/.parameters.json\".format(session_dir)) as f:\n",
    "            parameters = json.load(f)\n",
    "        conn.insert_dict_as_row(\"sessions\", {\n",
    "            \"materialization\": materialization_id,\n",
    "            \"parameters\": parameters,\n",
    "            \"nickname\": session\n",
    "        })\n",
    "        \n",
    "    else:\n",
    "        pass\n",
    "\n",
    "session_id = conn.nickname_id(\"sessions\", session)"
   ]
  },
  {
   "cell_type": "code",
   "execution_count": null,
   "metadata": {},
   "outputs": [],
   "source": [
    "# Parse Session Experiments\n",
    "\n",
    "experiment_list = os.listdir(\"{}\".format(session_dir))\n",
    "experiment_list = [i for i in experiment_list if not i.startswith('.')]\n",
    "print(f\"Found {len(experiment_list)} experiments\")\n",
    "for experiment in experiment_list:\n",
    "    if experiment.startswith('.'):\n",
    "        continue\n",
    "    dbp.parse_experiment(conn, materialization, session, experiment)\n",
    "    dbp.analyze_experiment(conn, experiment)"
   ]
  }
 ],
 "metadata": {
  "kernelspec": {
   "display_name": "Python 3.10.6 ('env': venv)",
   "language": "python",
   "name": "python3"
  },
  "language_info": {
   "codemirror_mode": {
    "name": "ipython",
    "version": 3
   },
   "file_extension": ".py",
   "mimetype": "text/x-python",
   "name": "python",
   "nbconvert_exporter": "python",
   "pygments_lexer": "ipython3",
   "version": "3.10.12"
  },
  "orig_nbformat": 4,
  "vscode": {
   "interpreter": {
    "hash": "2b1b057f403e61566541dcecf9fcd80c4a097e1e31ddd2549ab42d7c8974442a"
   }
  }
 },
 "nbformat": 4,
 "nbformat_minor": 2
}
