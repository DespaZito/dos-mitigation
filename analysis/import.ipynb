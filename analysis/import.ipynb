{
 "cells": [
  {
   "cell_type": "code",
   "execution_count": 1,
   "metadata": {},
   "outputs": [],
   "source": [
    "import db_helpers as dbh\n",
    "import db_parse as dbp\n",
    "\n",
    "import json\n",
    "import pandas as pd\n",
    "from pprint import pprint\n",
    "import os"
   ]
  },
  {
   "cell_type": "code",
   "execution_count": 2,
   "metadata": {},
   "outputs": [],
   "source": [
    "db_name = \"dos\"\n",
    "schema = \"schema.sql\"\n",
    "revision = \"test\"\n",
    "materialization = \"ladder\"\n",
    "session = \"quic_loss\"\n",
    "data_dir = \"/usr/local/dos-mitigation/data\"\n",
    "do_wipe = False # If True, ALL existing data will be overwritten"
   ]
  },
  {
   "cell_type": "code",
   "execution_count": 3,
   "metadata": {},
   "outputs": [],
   "source": [
    "if do_wipe:\n",
    "    try:\n",
    "        dbh.db_drop(db_name)\n",
    "    except:\n",
    "        pass\n",
    "    dbh.db_add(db_name, schema)\n",
    "\n",
    "# elif db_name not in dbh.db_list():\n",
    "#     dbh.db_add(db_name, schema)"
   ]
  },
  {
   "cell_type": "code",
   "execution_count": 4,
   "metadata": {},
   "outputs": [
    {
     "name": "stdout",
     "output_type": "stream",
     "text": [
      "Connected to database: dos\n"
     ]
    }
   ],
   "source": [
    "conn = dbh.Connection(\"dos\")\n",
    "print(\"Connected to database: {}\".format(conn.db_name()))"
   ]
  },
  {
   "cell_type": "code",
   "execution_count": 5,
   "metadata": {},
   "outputs": [],
   "source": [
    "revision_row = {\n",
    "    \"hash\": \"5bcc425177d073587dc0f78bf9acf084676d2061\",\n",
    "    \"metal\": True,\n",
    "    \"model_file\": None,\n",
    "    \"nickname\": revision\n",
    "}\n",
    "if do_wipe:\n",
    "    conn.insert_dict_as_row('revisions', revision_row)\n",
    "revision_id = conn.nickname_id(\"revisions\", revision)"
   ]
  },
  {
   "cell_type": "code",
   "execution_count": 6,
   "metadata": {},
   "outputs": [],
   "source": [
    "materialization_row = {\n",
    "    \"nickname\": materialization,\n",
    "    \"revision\": revision_id,\n",
    "    \"inventory_file\": None\n",
    "}\n",
    "if do_wipe:\n",
    "    conn.insert_dict_as_row('materializations', materialization_row)\n",
    "materialization_id = conn.nickname_id(\"materializations\", materialization)"
   ]
  },
  {
   "cell_type": "code",
   "execution_count": 7,
   "metadata": {},
   "outputs": [
    {
     "name": "stdout",
     "output_type": "stream",
     "text": [
      "Parsing session: quic_loss\n"
     ]
    }
   ],
   "source": [
    "print(\"Parsing session: {}\".format(session))\n",
    "\n",
    "with open(\"{}/{}/{}/.parameters.json\".format(data_dir, materialization, session)) as f:\n",
    "    parameters = json.load(f)\n",
    "\n",
    "session_row = {\n",
    "    \"materialization\": materialization_id,\n",
    "    \"parameters\": parameters,\n",
    "    \"nickname\": session\n",
    "}\n",
    "conn.insert_dict_as_row(\"sessions\", session_row)\n",
    "session_id = dbh.result_as_value(conn.db_query(\"select id from sessions where nickname='{}'\".format(session)))"
   ]
  },
  {
   "cell_type": "code",
   "execution_count": 8,
   "metadata": {},
   "outputs": [
    {
     "name": "stdout",
     "output_type": "stream",
     "text": [
      "Found 129 experiments\n",
      "Parsing experiment: 2023_12_14_07_01_25\n",
      "Parsing experiment: 2023_12_14_01_43_12\n",
      "Parsing experiment: 2023_12_13_23_43_50\n",
      "Parsing experiment: 2023_12_14_06_21_38\n",
      "Parsing experiment: 2023_12_14_05_15_21\n",
      "Parsing experiment: 2023_12_14_04_48_49\n",
      "Parsing experiment: 2023_12_14_12_46_15\n",
      "Parsing experiment: 2023_12_13_15_59_49\n",
      "Parsing experiment: 2023_12_13_17_19_20\n",
      "Parsing experiment: 2023_12_13_19_18_36\n",
      "Parsing experiment: 2023_12_13_13_47_14\n",
      "Parsing experiment: 2023_12_13_14_00_31\n",
      "Parsing experiment: 2023_12_14_06_34_55\n",
      "Parsing experiment: 2023_12_14_13_52_23\n",
      "Parsing experiment: 2023_12_13_18_52_05\n",
      "Parsing experiment: 2023_12_14_11_39_52\n",
      "Parsing experiment: 2023_12_14_03_55_48\n",
      "Parsing experiment: 2023_12_14_15_11_51\n",
      "Parsing experiment: 2023_12_14_10_20_17\n",
      "Parsing experiment: 2023_12_14_14_45_20\n",
      "Parsing experiment: 2023_12_14_05_55_08\n",
      "Parsing experiment: 2023_12_13_11_21_18\n",
      "Parsing experiment: 2023_12_13_20_24_57\n",
      "Parsing experiment: 2023_12_13_21_57_49\n",
      "Parsing experiment: 2023_12_14_06_48_10\n",
      "Parsing experiment: 2023_12_13_12_27_39\n",
      "Parsing experiment: 2023_12_14_00_23_39\n",
      "Parsing experiment: 2023_12_14_12_19_40\n",
      "Parsing experiment: 2023_12_14_04_22_18\n",
      "Parsing experiment: 2023_12_14_09_27_14\n",
      "Parsing experiment: 2023_12_13_11_08_03\n",
      "Parsing experiment: 2023_12_13_20_38_12\n",
      "Parsing experiment: 2023_12_14_07_27_56\n",
      "Parsing experiment: 2023_12_13_13_07_24\n",
      "Parsing experiment: 2023_12_14_07_54_27\n",
      "Parsing experiment: 2023_12_13_16_39_35\n",
      "Parsing experiment: 2023_12_13_19_05_20\n",
      "Parsing experiment: 2023_12_14_09_40_29\n",
      "Parsing experiment: 2023_12_14_12_06_24\n",
      "Parsing experiment: 2023_12_13_22_24_17\n",
      "Parsing experiment: 2023_12_13_21_31_17\n",
      "Parsing experiment: 2023_12_13_17_59_05\n",
      "Parsing experiment: 2023_12_13_22_37_35\n",
      "Parsing experiment: 2023_12_14_00_10_24\n",
      "Parsing experiment: 2023_12_13_14_40_18\n",
      "Parsing experiment: 2023_12_14_03_29_16\n",
      "Parsing experiment: 2023_12_13_18_38_50\n",
      "Parsing experiment: 2023_12_14_07_14_41\n",
      "Parsing experiment: 2023_12_13_14_13_46\n",
      "Parsing experiment: 2023_12_14_01_16_39\n",
      "Parsing experiment: 2023_12_14_10_46_49\n",
      "Parsing experiment: 2023_12_13_16_13_05\n",
      "Parsing experiment: 2023_12_14_09_53_45\n",
      "Parsing experiment: 2023_12_14_03_42_32\n",
      "Parsing experiment: 2023_12_14_12_33_00\n",
      "Parsing experiment: 2023_12_14_09_13_58\n",
      "Parsing experiment: 2023_12_14_04_09_03\n",
      "Parsing experiment: 2023_12_13_15_46_34\n",
      "Parsing experiment: 2023_12_13_20_51_27\n",
      "Parsing experiment: 2023_12_14_11_13_20\n",
      "Parsing experiment: 2023_12_13_22_11_03\n",
      "Parsing experiment: 2023_12_14_11_00_05\n",
      "Parsing experiment: 2023_12_14_09_00_42\n",
      "Parsing experiment: 2023_12_14_04_35_34\n",
      "Parsing experiment: 2023_12_13_19_58_25\n",
      "Parsing experiment: 2023_12_13_19_31_52\n",
      "Parsing experiment: 2023_12_13_21_18_00\n",
      "Parsing experiment: 2023_12_14_11_26_36\n",
      "Parsing experiment: 2023_12_13_15_20_05\n",
      "Parsing experiment: 2023_12_14_10_33_33\n",
      "Parsing experiment: 2023_12_13_18_12_19\n",
      "Parsing experiment: 2023_12_14_01_29_55\n",
      "Parsing experiment: 2023_12_13_14_27_01\n",
      "Parsing experiment: 2023_12_14_03_02_45\n",
      "Parsing experiment: 2023_12_14_07_41_11\n",
      "Parsing experiment: 2023_12_14_05_28_35\n",
      "Parsing experiment: 2023_12_14_14_32_06\n",
      "Parsing experiment: 2023_12_13_11_47_51\n",
      "Parsing experiment: 2023_12_13_12_01_06\n",
      "Parsing experiment: 2023_12_13_12_40_54\n",
      "Parsing experiment: 2023_12_13_23_17_19\n",
      "Parsing experiment: 2023_12_13_15_33_19\n",
      "Parsing experiment: 2023_12_14_12_59_29\n",
      "Parsing experiment: 2023_12_13_21_44_33\n",
      "Parsing experiment: 2023_12_13_16_52_50\n",
      "Parsing experiment: 2023_12_13_16_26_20\n",
      "Parsing experiment: 2023_12_13_23_30_36\n",
      "Parsing experiment: 2023_12_14_14_58_36\n",
      "Parsing experiment: 2023_12_14_13_39_06\n",
      "Parsing experiment: 2023_12_13_11_34_35\n",
      "Parsing experiment: 2023_12_13_12_54_09\n",
      "Parsing experiment: 2023_12_13_17_06_04\n",
      "Parsing experiment: 2023_12_13_23_57_07\n",
      "Parsing experiment: 2023_12_14_14_05_38\n",
      "Parsing experiment: 2023_12_14_01_03_23\n",
      "Parsing experiment: 2023_12_14_02_09_44\n",
      "Parsing experiment: 2023_12_13_13_20_43\n",
      "Parsing experiment: 2023_12_13_17_32_34\n",
      "Parsing experiment: 2023_12_13_18_25_34\n",
      "Parsing experiment: 2023_12_14_02_36_17\n",
      "Parsing experiment: 2023_12_13_14_53_32\n",
      "Parsing experiment: 2023_12_13_21_04_41\n",
      "Parsing experiment: 2023_12_14_06_08_23\n",
      "Parsing experiment: 2023_12_13_22_50_49\n",
      "Parsing experiment: 2023_12_14_15_25_24\n",
      "Parsing experiment: 2023_12_13_17_45_48\n"
     ]
    }
   ],
   "source": [
    "experiment_list = os.listdir(\"{}/{}/{}\".format(data_dir, materialization, session))\n",
    "experiment_list = [i for i in experiment_list if not i.startswith('.')]\n",
    "print(f\"Found {len(experiment_list)} experiments\")\n",
    "for experiment in experiment_list:\n",
    "    if experiment.startswith('.'):\n",
    "        continue\n",
    "    dbp.parse_experiment(conn, materialization, session, experiment)\n",
    "    dbp.analyze_experiment(conn, experiment)"
   ]
  }
 ],
 "metadata": {
  "kernelspec": {
   "display_name": "Python 3.10.6 ('env': venv)",
   "language": "python",
   "name": "python3"
  },
  "language_info": {
   "codemirror_mode": {
    "name": "ipython",
    "version": 3
   },
   "file_extension": ".py",
   "mimetype": "text/x-python",
   "name": "python",
   "nbconvert_exporter": "python",
   "pygments_lexer": "ipython3",
   "version": "3.10.12"
  },
  "orig_nbformat": 4,
  "vscode": {
   "interpreter": {
    "hash": "2b1b057f403e61566541dcecf9fcd80c4a097e1e31ddd2549ab42d7c8974442a"
   }
  }
 },
 "nbformat": 4,
 "nbformat_minor": 2
}
