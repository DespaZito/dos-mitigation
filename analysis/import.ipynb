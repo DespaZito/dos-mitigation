{
 "cells": [
  {
   "cell_type": "code",
   "execution_count": 1,
   "metadata": {},
   "outputs": [],
   "source": [
    "import db_helpers as dbh\n",
    "import db_parse as dbp\n",
    "\n",
    "import json\n",
    "import pandas as pd\n",
    "from pprint import pprint\n",
    "import os"
   ]
  },
  {
   "cell_type": "code",
   "execution_count": 2,
   "metadata": {},
   "outputs": [],
   "source": [
    "db_name = \"dos\"\n",
    "schema = \"schema.sql\"\n",
    "revision = \"test\"\n",
    "materialization = \"vnet\"\n",
    "session = \"quic_test\"\n",
    "data_dir = \"/usr/local/dos-mitigation/data\"\n",
    "do_wipe = True # If True, ALL existing data will be overwritten"
   ]
  },
  {
   "cell_type": "code",
   "execution_count": 3,
   "metadata": {},
   "outputs": [],
   "source": [
    "if do_wipe:\n",
    "    try:\n",
    "        dbh.db_drop(db_name)\n",
    "    except:\n",
    "        pass\n",
    "    dbh.db_add(db_name, schema)\n",
    "\n",
    "elif db_name not in dbh.db_list():\n",
    "    dbh.db_add(db_name, schema)"
   ]
  },
  {
   "cell_type": "code",
   "execution_count": 4,
   "metadata": {},
   "outputs": [
    {
     "name": "stdout",
     "output_type": "stream",
     "text": [
      "Connected to database: dos\n"
     ]
    }
   ],
   "source": [
    "conn = dbh.Connection(\"dos\")\n",
    "print(\"Connected to database: {}\".format(conn.db_name()))"
   ]
  },
  {
   "cell_type": "code",
   "execution_count": 5,
   "metadata": {},
   "outputs": [],
   "source": [
    "revision_row = {\n",
    "    \"hash\": \"5bcc425177d073587dc0f78bf9acf084676d2061\",\n",
    "    \"metal\": True,\n",
    "    \"model_file\": None,\n",
    "    \"nickname\": revision\n",
    "}\n",
    "if do_wipe:\n",
    "    conn.insert_dict_as_row('revisions', revision_row)\n",
    "revision_id = conn.nickname_id(\"revisions\", revision)"
   ]
  },
  {
   "cell_type": "code",
   "execution_count": 6,
   "metadata": {},
   "outputs": [],
   "source": [
    "materialization_row = {\n",
    "    \"nickname\": materialization,\n",
    "    \"revision\": revision_id,\n",
    "    \"inventory_file\": None\n",
    "}\n",
    "if do_wipe:\n",
    "    conn.insert_dict_as_row('materializations', materialization_row)\n",
    "materialization_id = conn.nickname_id(\"materializations\", materialization)"
   ]
  },
  {
   "cell_type": "code",
   "execution_count": 7,
   "metadata": {},
   "outputs": [
    {
     "name": "stdout",
     "output_type": "stream",
     "text": [
      "Parsing session: quic_test\n"
     ]
    }
   ],
   "source": [
    "print(\"Parsing session: {}\".format(session))\n",
    "\n",
    "with open(\"{}/{}/{}/.parameters.json\".format(data_dir, materialization, session)) as f:\n",
    "    parameters = json.load(f)\n",
    "\n",
    "session_row = {\n",
    "    \"materialization\": materialization_id,\n",
    "    \"parameters\": parameters,\n",
    "    \"nickname\": session\n",
    "}\n",
    "conn.insert_dict_as_row(\"sessions\", session_row)\n",
    "session_id = dbh.result_as_value(conn.db_query(\"select id from sessions where nickname='{}'\".format(session)))"
   ]
  },
  {
   "cell_type": "code",
   "execution_count": 8,
   "metadata": {},
   "outputs": [
    {
     "name": "stdout",
     "output_type": "stream",
     "text": [
      "Parsing experiment: 2023_11_08_14_10_31\n",
      "Parsing experiment: 2023_11_08_14_05_11\n",
      "Parsing experiment: 2023_11_08_14_15_52\n",
      "Parsing experiment: 2023_11_08_13_59_51\n"
     ]
    }
   ],
   "source": [
    "for experiment in os.listdir(\"{}/{}/{}\".format(data_dir, materialization, session)):\n",
    "    if experiment.startswith('.'):\n",
    "        continue\n",
    "    dbp.parse_experiment(conn, materialization, session, experiment)\n",
    "    dbp.analyze_experiment(conn, experiment)"
   ]
  }
 ],
 "metadata": {
  "kernelspec": {
   "display_name": "Python 3.10.6 ('env': venv)",
   "language": "python",
   "name": "python3"
  },
  "language_info": {
   "codemirror_mode": {
    "name": "ipython",
    "version": 3
   },
   "file_extension": ".py",
   "mimetype": "text/x-python",
   "name": "python",
   "nbconvert_exporter": "python",
   "pygments_lexer": "ipython3",
   "version": "3.10.12"
  },
  "orig_nbformat": 4,
  "vscode": {
   "interpreter": {
    "hash": "2b1b057f403e61566541dcecf9fcd80c4a097e1e31ddd2549ab42d7c8974442a"
   }
  }
 },
 "nbformat": 4,
 "nbformat_minor": 2
}
