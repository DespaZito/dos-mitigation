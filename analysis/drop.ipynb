{
 "cells": [
  {
   "cell_type": "code",
   "execution_count": 1,
   "metadata": {},
   "outputs": [],
   "source": [
    "# Imports\n",
    "\n",
    "import db_helpers as dbh"
   ]
  },
  {
   "cell_type": "code",
   "execution_count": 2,
   "metadata": {},
   "outputs": [],
   "source": [
    "# Settings\n",
    "\n",
    "db_name = \"dos\"\n",
    "schema = \"schema.sql\"\n",
    "safety = False"
   ]
  },
  {
   "cell_type": "code",
   "execution_count": 3,
   "metadata": {},
   "outputs": [],
   "source": [
    "# Function Definitions\n",
    "\n",
    "def drop_all():\n",
    "    if safety:\n",
    "        print('Safety is on')\n",
    "        return\n",
    "    dbh.db_drop(db_name)\n",
    "    dbh.db_add(db_name, schema)\n",
    "\n",
    "def drop_session(conn, session) :\n",
    "    if safety:\n",
    "        print('Safety is on')\n",
    "        return\n",
    "    session_id = conn.nickname_id(\"sessions\", session)\n",
    "    experiment_ids = conn.db_query(f\"SELECT id FROM experiments WHERE session = {session_id}\")\n",
    "    experiment_ids = [i[0] for i in experiment_ids]\n",
    "    conn.db_query(\"DELETE FROM data WHERE experiment = ANY(%s)\", [experiment_ids])\n",
    "    conn.db_query(\"DELETE FROM results WHERE experiment = ANY(%s)\", [experiment_ids])\n",
    "    conn.db_query(\"DELETE FROM experiments WHERE id = ANY(%s)\", [experiment_ids])\n",
    "\n",
    "def drop_materialization(conn, materialization) :\n",
    "    if safety:\n",
    "        print('Safety is on')\n",
    "        return\n",
    "    materialization_id = conn.nickname_id(\"materializations\", materialization)\n",
    "    sessions = conn.db_query(f\"SELECT nickname FROM sessions WHERE materialization = {materialization_id}\")\n",
    "    for session in sessions:\n",
    "        drop_session(conn, session)"
   ]
  },
  {
   "cell_type": "code",
   "execution_count": 4,
   "metadata": {},
   "outputs": [],
   "source": [
    "drop_all()"
   ]
  },
  {
   "cell_type": "markdown",
   "metadata": {},
   "source": []
  },
  {
   "cell_type": "code",
   "execution_count": null,
   "metadata": {},
   "outputs": [],
   "source": [
    "# Connect to Database\n",
    "\n",
    "conn = dbh.Connection(db_name)"
   ]
  },
  {
   "cell_type": "code",
   "execution_count": null,
   "metadata": {},
   "outputs": [],
   "source": [
    "drop_session(conn, 'tripod')"
   ]
  },
  {
   "cell_type": "code",
   "execution_count": null,
   "metadata": {},
   "outputs": [],
   "source": [
    "drop_materialization(conn, 'net1')"
   ]
  }
 ],
 "metadata": {
  "kernelspec": {
   "display_name": ".venv",
   "language": "python",
   "name": "python3"
  },
  "language_info": {
   "codemirror_mode": {
    "name": "ipython",
    "version": 3
   },
   "file_extension": ".py",
   "mimetype": "text/x-python",
   "name": "python",
   "nbconvert_exporter": "python",
   "pygments_lexer": "ipython3",
   "version": "3.10.12"
  }
 },
 "nbformat": 4,
 "nbformat_minor": 2
}
